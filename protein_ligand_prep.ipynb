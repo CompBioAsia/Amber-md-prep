{
 "cells": [
  {
   "cell_type": "markdown",
   "id": "46ef5da7-b78c-4f0d-870a-2d4577f0a677",
   "metadata": {
    "id": "0"
   },
   "source": [
    "# Prepare a protein-ligand system for simulation."
   ]
  },
  {
   "cell_type": "markdown",
   "id": "c8624601-62b7-4bfe-b5fe-ad526fbff7e5",
   "metadata": {
    "id": "c8624601-62b7-4bfe-b5fe-ad526fbff7e5"
   },
   "source": [
    "<a rel=\"license\" href=\"http://creativecommons.org/licenses/by/4.0/\"><img alt=\"Creative Commons Licence\" style=\"border-width:0\" src=\"https://i.creativecommons.org/l/by/4.0/88x31.png\" title='This work is licensed under a Creative Commons Attribution 4.0 International License.' align=\"right\"/></a>\n",
    "\n",
    "This is part 1 of a four-part tutorial on molecular dynamics simulations of biomolecular systems prepared for *CompBioAsia* 2025.\n",
    "\n",
    "* In this first part you will learn how to take an initial model for a protein-ligand complex and process it to get to a state where it is ready for MD simulation.\n",
    "\n",
    "* In part 2 you will learn how to perform MD simulations on this using the AMBER MD package.\n",
    "\n",
    "* In part 3 you will learn how to perform MD simulations on this using OpenMM instead.\n",
    "\n",
    "* In part 4 you will learn how to perform MD simulations on this using GROMACS instead.\n",
    "\n",
    "The molecular system we will be using for these tutorials is a complex between the anticancer drug [Imatinib](https://en.wikipedia.org/wiki/Imatinib) and it's target protein, the [Abl tyrosine kinase](https://en.wikipedia.org/wiki/ABL_(gene)).\n",
    "\n",
    "**Authors**:\n",
    "This tutorial is adapted from CCPBioSim's [BioSim analysis workshop](https://github.com/CCPBioSim/BioSim-analysis-workshop).\n",
    "\n",
    "*Updates*: Charlie Laughton (charles.laughton@nottingham.ac.uk)\n"
   ]
  },
  {
   "cell_type": "markdown",
   "id": "008cedf5-61ae-4d24-b1ee-74e5a57d0374",
   "metadata": {
    "id": "7625a79a-774a-46c9-b0f2-b8600bdf7189"
   },
   "source": [
    "## Learning outcomes\n",
    "* Understand the steps involved in preparing a simulation-ready system from crystal structure-derived data\n",
    "* Have a working knowledge of some of the software tools that can help with various stages in the process"
   ]
  },
  {
   "cell_type": "markdown",
   "id": "fd4338cf-08db-4d31-b355-786c564a15cd",
   "metadata": {},
   "source": [
    "## Prerequisites\n",
    "Assuming you have started this Notebook using the `run_notebook.sh` script in this folder, your Python environment should be complete.\n",
    "\n",
    "**However**, it also requires that you have [`Chimera`](https://www.cgl.ucsf.edu/chimera/download.html) installed and that you can start it from a terminal window using the command *chimera* (or similar). Unfortunately there is currently a bug in the newer `ChimeraX` that means it can't be used here."
   ]
  },
  {
   "cell_type": "markdown",
   "id": "2",
   "metadata": {
    "id": "2"
   },
   "source": [
    "# 1. Construct a complete molecular model for the protein-ligand complex"
   ]
  },
  {
   "cell_type": "markdown",
   "id": "e0fac4ce-36af-4a59-a798-526fe63b2799",
   "metadata": {
    "id": "e0fac4ce-36af-4a59-a798-526fe63b2799"
   },
   "source": [
    "The Protein Data Bank ([PDB](www.rcsb.org)) is a very valuable source of structures for MD simulation, but it must be understood that the crystal structure data itself is really just raw material - there are typically many steps that must be taken in order to generate simulation-ready systems from it. Some of these are:\n",
    "\n",
    "1. The crystal structure may contain more data than is needed for the simulation (e.g. multiple copies of the protein) - it may need to be edited down.\n",
    "\n",
    "2. Almost certainly the crystal structure will have missing data. It possible that certain heavy atoms - maybe whole sections of the protein - were not resolved in the experiment and are missing. Molecular simulations require chemically-complete models for the components so this must be rectified.\n",
    "\n",
    "3. Even if the structure is complete at the heavy-atom level, if it was solved by Xray crystallography it is unlikely that any hydrogen atoms will have been resolved. so these missing atoms must be added as well.\n",
    "\n",
    "There are very many approaches to system preparation for MD, what you see here is just one of them. It leverages a number of different system preparation tools from different sources, so to make the process simpler these have been \"wrapped\" into a small number of Python functions in the package *cba_tools*.\n",
    "\n",
    "If you want to see the details, take a look at `cba_tools.py`!\n"
   ]
  },
  {
   "cell_type": "markdown",
   "id": "494f6aa8-dfc7-45f2-bba6-0b3ec728fba6",
   "metadata": {},
   "source": [
    "## 1.1 Import required packages"
   ]
  },
  {
   "cell_type": "code",
   "execution_count": null,
   "id": "a62b01ad-3c3d-45e2-a73e-531aeb25ae37",
   "metadata": {},
   "outputs": [],
   "source": [
    "import mdtraj as mdt\n",
    "import nglview\n",
    "from cba_tools import fix, add_h, param"
   ]
  },
  {
   "cell_type": "markdown",
   "id": "96cd29f6-a24b-453d-8e56-174b7460190d",
   "metadata": {},
   "source": [
    "## 1.2 From Xray crystallography data to a partial structural model"
   ]
  },
  {
   "cell_type": "markdown",
   "id": "efdd536e-5acb-4c31-b3f0-1d06c92d7663",
   "metadata": {},
   "source": [
    "Although it's now often possible to obtain a (nearly) \"ready to run\" model for any protein via Alphafold (or similar), it still remains the case that if a good quality and relevant crystal structure is available from the Protein Data Bank this can produce a better starting model for a simulation.\n",
    "\n",
    "We won't go into the process of identifying such a candidate, but take it as read that the structure with PDB code [2HYY](https://www.rcsb.org/structure/2HYY) turns out to be suitable.\n",
    "\n",
    "A copy of this PDB file is included ('2hyy.pdb'),  step one is to take a look."
   ]
  },
  {
   "cell_type": "code",
   "execution_count": null,
   "id": "da9dd10a-afca-4417-84ba-eea34cba8d82",
   "metadata": {},
   "outputs": [],
   "source": [
    "pdb2hyy = mdt.load('2hyy.pdb')\n",
    "view = nglview.show_mdtraj(pdb2hyy)\n",
    "view.add_representation('ball+stick', 'water')\n",
    "view"
   ]
  },
  {
   "cell_type": "markdown",
   "id": "6ecf16ab-0146-4dae-bb07-856b50316333",
   "metadata": {},
   "source": [
    "You should be able to work out that the crystal structure features four copies of the Abl protein, each with one molecule of Imatinib bound to it. Each has it's own collection of water molecules too. For now, we are going to assume that it's only the first of these copies (chain 'A') that we want to start building our simulation system.\n",
    "\n",
    "What you probably can't see straight away is that there are some significant issues with this crystal structure. There are quite a few atoms that ought to be there, but aren't because they could not be seen in the experimental electron density. This results in some amino acid side chains being incomplete (e.g. a histidine sidechain - left panel below), and even some entire residues being absent, creating 'gaps' in the protein chain (right). \n",
    "\n",
    "|Missing side chain atoms|Missing residue|\n",
    "|---------------------|------------------|\n",
    "|![histidine](his.png)|![a gap](gap.png) |\n",
    "\n",
    "\n",
    "For simulation purposes, these missing atoms must be reintroduced somehow. The CBA tool *fix*, which uses [pdbfixer](https://github.com/openmm/pdbfixer), can be used to do this. It requires the name of the PDB file to fix, a name for the 'fixed' file, a list of the chains to keep, and a decision as to whether any missing residues at the N- and C-terminii should be ignored (trim=True), or reconstructed as well (trim=False).\n",
    "\n",
    "In the cell below you can see we have decided to use chain 'A\", won't bother to reconstruct missing N- and C-terminal residues, and will call the remediated PDB file 'abl_imatinib_heavy.pdb' (because it should be complete at the heavy atom level, though still missing hydrogens):"
   ]
  },
  {
   "cell_type": "code",
   "execution_count": null,
   "id": "aa88efb1-4439-4b61-8591-4b4194108d0e",
   "metadata": {},
   "outputs": [],
   "source": [
    "fix('2hyy.pdb', 'abl_imatinib_heavy.pdb', keep_chains=['A'], trim=True)"
   ]
  },
  {
   "cell_type": "markdown",
   "id": "925b4eb0-1c12-4bcf-b939-5697ef8bcb2f",
   "metadata": {},
   "source": [
    "Let's take a look at the result:"
   ]
  },
  {
   "cell_type": "code",
   "execution_count": null,
   "id": "973c6350-5ec1-4583-bbc7-e03709c5fbfa",
   "metadata": {},
   "outputs": [],
   "source": [
    "abl_sti = mdt.load('abl_imatinib_heavy.pdb')\n",
    "view = nglview.show_mdtraj(abl_sti)\n",
    "view"
   ]
  },
  {
   "cell_type": "markdown",
   "id": "cf1f0d9c-1afd-448e-b81f-bac990408080",
   "metadata": {},
   "source": [
    "Take a good look, and convince yourself that the process has worked. Be aware that though `fix` works pretty well, it's not guaranteed to be perfect every time. You should always check the produced structure very carefully."
   ]
  },
  {
   "cell_type": "markdown",
   "id": "7fbfbee8-1382-45a3-8864-d0d97d9bd315",
   "metadata": {},
   "source": [
    "## 1.3 Completion of the structural model - addition of hydrogen atoms."
   ]
  },
  {
   "cell_type": "markdown",
   "id": "35fba535-ce08-427b-82e2-9a98dbeeefa6",
   "metadata": {},
   "source": [
    "The next step is to add hydrogen atoms. There are a variety of methods to do this more-or-less automatically, but none is perfect. Here we will use the CBA tool *add_h*, which in turn uses the [addh](https://www.cgl.ucsf.edu/chimerax/docs/user/commands/addh.html) utility built into *Chimera*. \n",
    "\n",
    "It requires the names for the input and output PDB files, the name for the command which launches *Chimera*, and a decision as to whether you want the protein residue names to be modified to fit AMBER conventions or not (e.g. change the names of histidine residues from HIS to HID, HIE, or HIP according to what hydrogen atoms have been added to them)."
   ]
  },
  {
   "cell_type": "code",
   "execution_count": null,
   "id": "8a3c7743-834e-4d83-a49c-481ef200ebc5",
   "metadata": {},
   "outputs": [],
   "source": [
    "add_h('abl_imatinib_heavy.pdb', 'abl_imatinib_amber.pdb', \n",
    "      chimera='/Applications/Chimera.app/Contents/MacOS/chimera',\n",
    "      mode='amber')"
   ]
  },
  {
   "cell_type": "markdown",
   "id": "00c01f94-6e81-4f57-a65a-2e7057bbf69d",
   "metadata": {},
   "source": [
    "Now check the result visually:"
   ]
  },
  {
   "cell_type": "code",
   "execution_count": null,
   "id": "9ddfdb30-347b-4065-a56c-2cf4a7f1c794",
   "metadata": {},
   "outputs": [],
   "source": [
    "abl_sti_amber = mdt.load('abl_imatinib_amber.pdb')\n",
    "view2 = nglview.show_mdtraj(abl_sti_amber)\n",
    "view2"
   ]
  },
  {
   "cell_type": "markdown",
   "id": "3f417eb1-09f7-467a-9fed-82cbfe16636f",
   "metadata": {},
   "source": [
    "If you zoom in on the ligand, you should be able to see the hydrogen atoms now attached to it. Look carefully and you will see that both nitrogen atoms in the piperidine ring are predicted to be protonated, so overall the imatinib molecule has a charge of +2. If you click on one of the imatinib atoms, you will also see that the residue name for it is 'STI'. You will need both of these bits of information for the next step.  \n",
    "\n",
    "Although not shown, all protein hydrogen atoms have also been added.\n",
    "\n",
    "Again the same caveats as last time: `addh` generally does a good job but it's not guaranteed. Check the resulting structure very carefully."
   ]
  },
  {
   "cell_type": "markdown",
   "id": "93473e00-f8a2-41cd-a561-22880b2d63c3",
   "metadata": {},
   "source": [
    "# 2. Parameterization of the model"
   ]
  },
  {
   "cell_type": "markdown",
   "id": "dab08751-ec07-4386-9f04-e44b0901924d",
   "metadata": {},
   "source": [
    "Now that we have a chemically-complete model for the protein and ligand, we can move on to the parameterization stage.\n",
    "\n",
    "For this we will be using tools from the [AMBER MD](https://ambermd.org/) simulation package. Parameterizing the protein component of the system is easy, beacuse AMBER comes with a library of parameters for all \"standard\" biomolecular components (amino acids, nucleic acids, certain ions, solvants and lipids, etc.). But it has no knowledge of the parameters required for the Imatinib molecule in our system so we have to generate these ourselves.\n",
    "\n",
    "The CBA tool *param* will do this for you. It requires:\n",
    "\n",
    " - the name of the PDB format file to process\n",
    " - the name of the AMBER parameter (\"prmtop\") file to generate\n",
    " - the name of the AMBER cordinates (\"inpcrd\") file to generate\n",
    " - the names of all non-standard residues (\"heterogens\") that will need to be parameterized\n",
    " - the formal charge on each of the heterogens\n",
    " - the type of solvent (water) box to add (see below)\n",
    " - the width of the solvent margin between the solute and the box boundaries\n",
    "\n",
    "In addition, for more advanced use you can specify which forcefields you want to be used (otherwise defaults are selected automatically).\n",
    "\n",
    "\n",
    "The options for the periodic box of solvent are \"box\", \"cube\", and \"oct\" (truncated octahedron). The figure below summarizes the differences:\n",
    "\n",
    "![boxes](boxes.png)\n",
    "\n",
    "\"Box\" adds the least solvent to satisfy the \"buffer\" criterion (white arrows), but if the solute (orange) rotates in the box, it may extend beyond it. \"Cube\" solves this, but means adding more water (so more atoms and a slower simulation). \"Oct\" reduces the number of waters required but still is safe for rotation of the solute."
   ]
  },
  {
   "cell_type": "code",
   "execution_count": null,
   "id": "7fd67202-ba79-448b-bd7a-7705ffa29957",
   "metadata": {},
   "outputs": [],
   "source": [
    "param('abl_imatinib_amber.pdb', 'abl_imatinib.prmtop', 'abl_imatinib.inpcrd', \n",
    "      het_names=['STI'], het_charges=[2],\n",
    "      solvate='oct', buffer=10.0)"
   ]
  },
  {
   "cell_type": "markdown",
   "id": "bd63040a-1476-41e5-b47b-10ebc63747c1",
   "metadata": {},
   "source": [
    "(This cell may take quite a time to run.)\n",
    "\n",
    "You will notice that in addition to the files 'abl_imatinib.prmtop' and 'abl_imatinib.inpcrd', the process has generated two extra files: 'STI.mol2' and 'STI.frcmod'. These contain the parameterization data for the imatinib molecule that was generated as part of the process. \n",
    "\n",
    "You don't need these to run future simulations, but, as before, `param` is not perfect and it is a good idea to check them (the .mol2 file contains information about the atom and bond types assigned, the .frcmod file lists non-standard force field parameters that have been inferred). "
   ]
  },
  {
   "cell_type": "markdown",
   "id": "0e83db97-557f-48ca-ae7d-b2db7b3862a9",
   "metadata": {},
   "source": [
    "Visualize the result, which is your 'simulation-ready' system:"
   ]
  },
  {
   "cell_type": "code",
   "execution_count": null,
   "id": "e337a611-a21c-4231-b9bc-af5e908c42a3",
   "metadata": {},
   "outputs": [],
   "source": [
    "system = mdt.load('abl_imatinib.inpcrd', top='abl_imatinib.prmtop')\n",
    "view3 = nglview.show_mdtraj(system)\n",
    "view3.add_representation('line', 'HOH')\n",
    "view3"
   ]
  },
  {
   "cell_type": "markdown",
   "id": "f9c7286b-1f9e-4cb9-a63d-b1f713d63fbf",
   "metadata": {},
   "source": [
    "As you rotate the view you will be able to appreciate the shape and size of the periodic box of water that has been added. You can re-run `param` with 'solvate=\"box\"' or 'solvate=\"cube\"' to see the effect of these options, and experiment with changing the value of \"buffer\" too (it's in Angstroms)."
   ]
  },
  {
   "cell_type": "markdown",
   "id": "5b61f2af-a582-4441-bfe7-675403b4d7eb",
   "metadata": {},
   "source": [
    "# Next Steps\n",
    "In the next workbook, you will use these files to start some MD simulations using AMBER."
   ]
  }
 ],
 "metadata": {
  "category": "tutorial",
  "celltoolbar": "Tags",
  "colab": {
   "provenance": []
  },
  "kernelspec": {
   "display_name": "Python 3 (ipykernel)",
   "language": "python",
   "name": "python3"
  },
  "language_info": {
   "codemirror_mode": {
    "name": "ipython",
    "version": 3
   },
   "file_extension": ".py",
   "mimetype": "text/x-python",
   "name": "python",
   "nbconvert_exporter": "python",
   "pygments_lexer": "ipython3",
   "version": "3.10.17"
  }
 },
 "nbformat": 4,
 "nbformat_minor": 5
}
