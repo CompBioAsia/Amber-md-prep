{
 "cells": [
  {
   "cell_type": "markdown",
   "id": "4563354c-2325-4d3f-9bf7-feda70a36de7",
   "metadata": {},
   "source": [
    "# Preparing a protein-ligand system for molecular dynamics simulation."
   ]
  },
  {
   "cell_type": "markdown",
   "id": "90d502db-c8b6-4fdc-822b-bc090f2956a9",
   "metadata": {},
   "source": [
    "This is part 1 of a three-part tutorial on molecular dynamics simulations of biomolecular systems prepared for *CompBioAsia* 2025.\n",
    "\n",
    "This part is concerned with preparing a molecular system for MD simulation.\n",
    "A second part covers actually running MD simulations, using the **AMBER** package.\n",
    "A third part looks at another MD package - **OpenMM**.\n",
    "\n",
    "## Prerequisites\n",
    "Assuming you have started this Notebook using the `run_notebook.sh` script in this folder, your Python environment should be complete.\n",
    "\n",
    "## Background\n",
    "One of the most widespread uses of molecular dynamics simulations is to predict protein-ligand binding affinities, a key process in drug design and discovery. This requires:\n",
    "\n",
    "1. A three dimensional model for the ligand - most commonly this can be **predicted from first principles**.\n",
    "2. A three dimensional model for the protein - this may be predicted from first principles sometimes (e.g. **Alphafold** or similar), but most commonly makes use of experimental methods such as **Xray crystallography** or **NMR spectroscopy**.\n",
    "3. A prediction of where on the protein the ligand binds - often obtained via the molecular modelling method of **Docking**.\n",
    "4. The production of a molecular model for the protein-ligand complex, and conversion into a form that is ready for MD simulation.\n",
    "\n",
    "This tutorial is concerned with parts 1,2, and 4 of this process - the Docking part will be discussed at another time.\n",
    "\n",
    "\n",
    "\n",
    "* In the first part you will learn how to produce a molecular model for an analogue the anicancer drug [Imatinib](https://en.wikipedia.org/wiki/Imatinib). \n",
    "\n",
    "* In the second part you will learn how to produce a molecular model of the protein target, the [Abl tyrosine kinase](https://en.wikipedia.org/wiki/ABL_(gene)).\n",
    "\n",
    "* In part three (skipping over the docking bit), you will see how to combine the model of the protein with the molecular model for the ligand generated in part one, and complete the preparation of the system for molecular dynamics simulation.\n",
    "\n",
    "There are very many approaches to system preparation for MD, what you see here is just one of them. It leverages a number of different system preparation tools from different sources, so to make the process simpler these have been \"wrapped\" into a small number of Python functions in the package *cba_tools*.\n",
    "\n",
    "If you want to see the details, take a look at `cba_tools.py`!\n",
    "\n",
    "**Authors**:\n",
    "This tutorial is adapted from CCPBioSim's [BioSim analysis workshop](https://github.com/CCPBioSim/BioSim-analysis-workshop).\n",
    "\n",
    "*Updates*: Charlie Laughton (charles.laughton@nottingham.ac.uk)"
   ]
  },
  {
   "cell_type": "markdown",
   "id": "2c00df59-4524-4dc8-9d1a-cbafb32bf21a",
   "metadata": {},
   "source": [
    "## Part 1. Constructing a model for the ligand"
   ]
  },
  {
   "cell_type": "markdown",
   "id": "04367ad3-e10d-4d3b-b45c-9e844443de17",
   "metadata": {},
   "source": [
    "We begin by creating a model for our chosen ligand. If you are starting - as here - from nothing, then a good way to do this can be to work out a description of its structure in [SMILES format](https://daylight.com/dayhtml/doc/theory/theory.smiles.html), and then apply tools that can generate a 3D model of the molecule from this.\n",
    "\n",
    "In doing this, one of the things you need to consider carefuly is the likely **protonation state** of your ligand. For example, if it contains basic amino groups, most likely at physiological pHs these will be protonated. If on the other hand it contains carboxylic acid groups, most likely these will be deprotonated. \n",
    "\n",
    "If you are an experienced chemist you can write your SMILES string in a way that exactly specifies this, but if you are less confident, there are tools that can automate the process. That is what we do here, using the tool `smiles_to_pdb` from the CBA tools package."
   ]
  },
  {
   "cell_type": "markdown",
   "id": "e3f1f871-89d6-438b-9d37-2d1d33224e30",
   "metadata": {},
   "source": [
    "### 1.1 Import required packages"
   ]
  },
  {
   "cell_type": "code",
   "execution_count": null,
   "id": "5493e818-1bc6-40a0-9ee7-1baf7317a227",
   "metadata": {},
   "outputs": [],
   "source": [
    "from cba_tools import smiles_to_pdb\n",
    "# For visualization of the results:\n",
    "import nglview as nv\n",
    "import mdtraj as mdt"
   ]
  },
  {
   "cell_type": "markdown",
   "id": "3ee51d28-d915-4d83-a279-6dd368a08991",
   "metadata": {},
   "source": [
    "### 1.2 From 1D to 3D"
   ]
  },
  {
   "cell_type": "markdown",
   "id": "1037ae43-13a9-4435-9172-5486fd6d98a1",
   "metadata": {},
   "source": [
    "The structures of Imatinib, and our Imatinib analogue, are show below (can you spot the differences?):\n",
    "\n",
    "\n",
    "![imatinib and analogue](imatinib_analogue.png)\n",
    "\n",
    "We begin with a description of the molecular structure of our imatinib analogue in the form of a SMILES string (so effectively a '1D' representation of the  structure:\n",
    "\n",
    "\"c1ccc(NC(=O)c2ccc(CN3CCN(C)CC3)cc2)cc1Nc1nccc(-c2ccncc2)n1\"\n",
    "\n",
    "Now we use the CBA tool `smiles_to_pdb` to convert it to a 3D representation, and save to disk as a PDB format file. We ask the tool to make sure the molecule is created in an ionization state appropriate for a physiological pH:"
   ]
  },
  {
   "cell_type": "code",
   "execution_count": null,
   "id": "3b1dea6b-afa4-48ea-b3e6-b9080f401cbc",
   "metadata": {},
   "outputs": [],
   "source": [
    "ligand_smiles = 'c1ccc(NC(=O)c2ccc(CN3CCN(C)CC3)cc2)cc1Nc1nccc(-c2ccncc2)n1'\n",
    "charge = smiles_to_pdb(ligand_smiles, 'ligand_pH7.pdb', pH=7.4)\n",
    "print('3D structure created, formal charge = ',charge)"
   ]
  },
  {
   "cell_type": "markdown",
   "id": "60481c90-79f5-4f4c-b657-1665fc0badca",
   "metadata": {},
   "source": [
    "Let's take a look at the 3D structure, using `nglview`: "
   ]
  },
  {
   "cell_type": "code",
   "execution_count": null,
   "id": "3e673c40-feb0-451d-93d1-84160d66f7d9",
   "metadata": {},
   "outputs": [],
   "source": [
    "traj = mdt.load('ligand_ph7.pdb')\n",
    "view = nv.show_mdtraj(traj)\n",
    "view"
   ]
  },
  {
   "cell_type": "markdown",
   "id": "031a0403-7940-4fcd-936f-905f1efc2695",
   "metadata": {},
   "source": [
    "Take a careful look at the structure, hopefully you can convince yourself that you now have a chemically complete and structurally reasonable model for your imatinib analogue. For example, if you look carefully at the piperidine ring, you should see that both nitrogen atoms are protonated (this is why the molecule has a formal charge of +2).\n",
    "\n",
    "With a structure for the ligand prepared, we can now move on in Part 2 to building a structure for the protein target."
   ]
  },
  {
   "cell_type": "markdown",
   "id": "53481a96-ffb7-428e-a821-d0b0209f1905",
   "metadata": {},
   "source": [
    "## Part 2. Remediating a suitable protein structure obtained from the Protein Data Bank"
   ]
  },
  {
   "cell_type": "markdown",
   "id": "bafbb0cb-96f8-443f-9bd7-6890e90d4a90",
   "metadata": {},
   "source": [
    "The Protein Data Bank ([PDB](www.rcsb.org)) is a very valuable source of structures for MD simulation, but it must be understood that the crystal structure data itself is really just raw material - there are typically many steps that must be taken in order to generate simulation-ready systems from it. Some of these are:\n",
    "\n",
    "1. The crystal structure may contain more data than is needed for the simulation (e.g. multiple copies of the protein) - it may need to be edited down.\n",
    "\n",
    "2. Almost certainly the crystal structure will have missing data. It possible that certain heavy atoms - maybe whole sections of the protein - were not resolved in the experiment and are missing. Molecular simulations require chemically-complete models for the components so this must be rectified.\n",
    "\n",
    "3. Even if the structure is complete at the heavy-atom level, if it was solved by Xray crystallography it is unlikely that any hydrogen atoms will have been resolved. so these missing atoms must be added as well."
   ]
  },
  {
   "cell_type": "markdown",
   "id": "31fb5c33-08b1-4c2b-933a-b6c8593388fd",
   "metadata": {},
   "source": [
    "### 2.1 Import required packages"
   ]
  },
  {
   "cell_type": "code",
   "execution_count": null,
   "id": "1cb29cbe-db0f-4091-a50b-9908b70d3815",
   "metadata": {},
   "outputs": [],
   "source": [
    "from cba_tools import fix, add_h"
   ]
  },
  {
   "cell_type": "markdown",
   "id": "1f79d413-89a7-4dea-8899-20e64f49c414",
   "metadata": {},
   "source": [
    "### 2.2 From Xray crystallography data to a partial structural model"
   ]
  },
  {
   "cell_type": "markdown",
   "id": "705fe64c-0a78-4477-a8b1-6274063fb87c",
   "metadata": {},
   "source": [
    "Although it's now often possible to obtain a (nearly) \"ready to run\" model for any protein via [Alphafold](https://alphafold.com/) (or similar), it still remains the case that if a good quality and relevant crystal structure is available from the Protein Data Bank this can produce a better starting model for a simulation.\n",
    "\n",
    "It turns out that the crystal stucture of Abl in complex with Imatinib itself has been solved, with PDB code [2HYY](https://www.rcsb.org/structure/2HYY), so if we can extract just the protein component from this, it would seem a good place to start. \n",
    "\n",
    "A copy of this PDB file is included ('2hyy.pdb'),  step one is to take a look:"
   ]
  },
  {
   "cell_type": "code",
   "execution_count": null,
   "id": "e26154fa-a8e3-47bd-ada8-1973b6f49db9",
   "metadata": {},
   "outputs": [],
   "source": [
    "pdb2hyy = mdt.load('2hyy.pdb')\n",
    "view = nv.show_mdtraj(pdb2hyy)\n",
    "view.add_representation('ball+stick', 'water')\n",
    "view"
   ]
  },
  {
   "cell_type": "markdown",
   "id": "310b9dd3-4a96-48ca-8557-f47e70695b0a",
   "metadata": {},
   "source": [
    "You should be able to work out that the crystal structure features four copies of the Abl protein, each with one molecule of Imatinib bound to it. Each has it's own collection of water molecules too. For now, we are going to assume that it's only the first of these copies (chain 'A') that we want to start building our simulation system.\n",
    "\n",
    "What you probably can't see straight away is that there are some significant issues with this crystal structure. There are quite a few atoms that ought to be there, but aren't because they could not be seen in the experimental electron density. This results in some amino acid side chains being incomplete (e.g. a histidine sidechain - left panel below), and even some entire residues being absent, creating 'gaps' in the protein chain (right). \n",
    "\n",
    "|Missing side chain atoms|Missing residue|\n",
    "|---------------------|------------------|\n",
    "|![histidine](his.png)|![a gap](gap.png) |\n",
    "\n",
    "\n",
    "For simulation purposes, these missing atoms must be reintroduced somehow. The CBA tool *fix*, which uses [pdbfixer](https://github.com/openmm/pdbfixer), can be used to do this. It requires the name of the PDB file to fix, a name for the 'fixed' file it will generate, a list of the chains to keep, and a decision as to whether any missing residues at the N- and C-terminii should be ignored (trim=True), or reconstructed as well (trim=False).\n",
    "\n",
    "In the cell below you can see we have decided to use chain 'A\", won't bother to reconstruct missing N- and C-terminal residues, and will call the remediated PDB file 'abl_imatinib_heavy.pdb' (because it should be complete at the heavy atom level, though still missing hydrogens):"
   ]
  },
  {
   "cell_type": "code",
   "execution_count": null,
   "id": "6debbb71-4020-4e0e-8741-72adf081cbba",
   "metadata": {},
   "outputs": [],
   "source": [
    "fix('2hyy.pdb', 'abl_imatinib_heavy.pdb', keep_chains=['A'], trim=True)"
   ]
  },
  {
   "cell_type": "markdown",
   "id": "ffe080a0-1d04-4680-9a45-5f3724bbffbd",
   "metadata": {},
   "source": [
    "The messages tell you that the most significant thing is that a missing residue (Glu at position 40) has been regenerated.\n",
    "\n",
    "Let's take a look at the result:"
   ]
  },
  {
   "cell_type": "code",
   "execution_count": null,
   "id": "dff3e337-f2c4-47be-a3de-cbbcd8fc2cd2",
   "metadata": {},
   "outputs": [],
   "source": [
    "abl_imatinib = mdt.load('abl_imatinib_heavy.pdb')\n",
    "view = nv.show_mdtraj(abl_imatinib)\n",
    "view"
   ]
  },
  {
   "cell_type": "markdown",
   "id": "0c0334d0-947b-4983-a6e1-bc5063bbf1db",
   "metadata": {},
   "source": [
    "Take a good look, and convince yourself that the process has worked. Be aware that though `fix` works pretty well, it's not guaranteed to be perfect every time. You should always check the produced structure very carefully.\n",
    "\n",
    "The protein chain looks complete, however the structure contains bits we don't want - the imatinib ligand, and also (maybe not easy to see) some water molecules.\n",
    "\n",
    "We will use `mdtraj` to cut the model down to just the protein component, and save as a PDB format file. We'll also have a look to check:"
   ]
  },
  {
   "cell_type": "code",
   "execution_count": null,
   "id": "dafc1059-dc62-40d5-a3d3-afdc97bf500f",
   "metadata": {},
   "outputs": [],
   "source": [
    "abl = abl_imatinib.atom_slice(abl_imatinib.topology.select('protein'))\n",
    "abl.save('abl_heavy.pdb')\n",
    "view = nv.show_mdtraj(abl)\n",
    "view.add_representation('licorice', 'protein')\n",
    "view"
   ]
  },
  {
   "cell_type": "markdown",
   "id": "a2e56ad7-37dd-4649-a4c5-9650df3eeca6",
   "metadata": {},
   "source": [
    "If you zoom in you will be able to see there are no hydrogen atoms in this structure, just heavy atoms. The next step is to fix this."
   ]
  },
  {
   "cell_type": "markdown",
   "id": "f9ceacfb-4ba9-4fa2-93a2-c5d13c953fa1",
   "metadata": {},
   "source": [
    "### 2.3 Completion of the protein model - addition of hydrogen atoms."
   ]
  },
  {
   "cell_type": "markdown",
   "id": "db73a1e5-c7d5-4aa2-8982-aa8ceef36d9b",
   "metadata": {},
   "source": [
    "There are a variety of methods to do this more-or-less automatically, but none is perfect - always check the results! Here we will use the CBA tool *add_h*, which in turn uses the molecular graphics package [Chimera](https://www.cgl.ucsf.edu/chimera/) (or the newer [ChimeraX](https://www.cgl.ucsf.edu/chimerax/)) and the \"pdb4amber\" utility from [ambertools](https://ambermd.org/AmberTools.php) . \n",
    "\n",
    "It requires are the names for the input and output PDB files, the command that will launch Chimera (or ChimeraX), and a decision as to whether names of protein residues should be adapted to fit **AMBER** conventions (we want this). In th next cell we run it then check the result visually:"
   ]
  },
  {
   "cell_type": "code",
   "execution_count": null,
   "id": "17d6daab-1002-4f55-a12b-5a0cce51205c",
   "metadata": {},
   "outputs": [],
   "source": [
    "add_h('abl_heavy.pdb', 'abl_amber.pdb', \n",
    "      chimera='chimerax',\n",
    "      mode='amber')\n",
    "abl_amber = mdt.load('abl_amber.pdb')\n",
    "view2 = nv.show_mdtraj(abl_amber)\n",
    "view2.add_representation('licorice', 'protein')\n",
    "view2"
   ]
  },
  {
   "cell_type": "markdown",
   "id": "d4debc7c-ec49-432e-b76d-1980494eda31",
   "metadata": {},
   "source": [
    "You should be able to see the structure now includes all the expected hydrogen atoms.\n",
    "\n",
    "With models for both the protein and ligand now made, the next step would most likely be to use **Docking** or a similar process to predict where in the structure of the protein the ligand binds. We are going to skip over that for now, assuming it has been done and a new model for the imatinib ligand is available: 'ligand_docked.pdb'. "
   ]
  },
  {
   "cell_type": "markdown",
   "id": "681517ce-3bf9-4403-b181-26846457b3a7",
   "metadata": {},
   "source": [
    "## Part 3: Preparing the protein-ligand system for MD with AMBER"
   ]
  },
  {
   "cell_type": "markdown",
   "id": "48de9274-60ec-47a6-9e4e-f223826a60bb",
   "metadata": {},
   "source": [
    "In this next part we will combine the protein and docked ligand structures, generate a biologically more relevant model by immersing the protein-ligand complex in a bath of water and ions, and then generate the data files in a format required for the AMBER MD simulation package. This process is called \"parameterization\"."
   ]
  },
  {
   "cell_type": "markdown",
   "id": "c2683a73-a19b-467d-bf7f-7607a8d9103b",
   "metadata": {},
   "source": [
    "### 3.1 Import the required packages"
   ]
  },
  {
   "cell_type": "code",
   "execution_count": null,
   "id": "996e9ef3-99a3-4ca6-916b-4139f00045b5",
   "metadata": {},
   "outputs": [],
   "source": [
    "from cba_tools import param"
   ]
  },
  {
   "cell_type": "markdown",
   "id": "3e5ceb8b-36f3-4894-a49e-1be98a84725a",
   "metadata": {},
   "source": [
    "## 3.2 Merging the protein and ligand into one PDB file"
   ]
  },
  {
   "cell_type": "markdown",
   "id": "c438f20e-9b25-4cae-989a-3d85dc0063a3",
   "metadata": {},
   "source": [
    "First we need to merge the structures of the protein and ligand into one file. We can use `mdtraj` for this:"
   ]
  },
  {
   "cell_type": "code",
   "execution_count": null,
   "id": "07550b86-6ef7-429d-989f-9b8f38095867",
   "metadata": {},
   "outputs": [],
   "source": [
    "abl = mdt.load_pdb('abl_amber.pdb', standard_names=False) # Keep AMBER-compliant names\n",
    "ligand = mdt.load_pdb('ligand_docked.pdb')\n",
    "abl_ligand = abl.stack(ligand)\n",
    "abl_ligand.save('abl_ligand.pdb')\n",
    "view = nv.show_mdtraj(abl_ligand)\n",
    "view"
   ]
  },
  {
   "cell_type": "markdown",
   "id": "a5f3e772-a86b-40ab-8c25-36e44d7e0646",
   "metadata": {},
   "source": [
    "If you click on one of the ligand atoms, you will see it has the residue name 'UNL'. Remember too from part 1 that this ligand has a formal charge of +2. You will need both of these bits of information in a bit."
   ]
  },
  {
   "cell_type": "markdown",
   "id": "3177348c-597c-4b2f-8b78-39ca90932774",
   "metadata": {},
   "source": [
    "## 3.3 Completion and parameterizion of the molecular system"
   ]
  },
  {
   "cell_type": "markdown",
   "id": "40e1fb3e-3d25-472b-b37e-9354792baf2d",
   "metadata": {},
   "source": [
    "Now that we have a chemically-complete model for the protein and ligand, we can move on to the parameterization stage.\n",
    "\n",
    "### Gathering required information\n",
    "\n",
    "For this we will be using tools from the [AMBER MD](https://ambermd.org/) simulation package. Parameterizing the protein component of the system is easy, beacuse AMBER comes with a library of parameters for all \"standard\" biomolecular components (amino acids, nucleic acids, certain ions, solvants and lipids, etc.). But it has no knowledge of the parameters required for the Imatinib molecule in our system so we have to generate these ourselves.\n",
    "\n",
    "The CBA tool *param* will do this for you. It requires:\n",
    "\n",
    " - the name of the PDB format file to process\n",
    " - the name of the AMBER parameter (\"prmtop\") file to generate\n",
    " - the name of the AMBER coordinates (\"inpcrd\") file to generate\n",
    " - the names of all non-standard residues (\"heterogens\") that will need to be parameterized\n",
    " - the formal charge on each of the heterogens\n",
    " - the type of solvent (water) box to add (see below)\n",
    " - the width of the solvent margin between the solute and the box boundaries\n",
    "\n",
    "In addition, for more advanced use you can specify which forcefields you want to be used (otherwise defaults are selected automatically).\n",
    "\n",
    "### Deciding about solvation\n",
    "\n",
    "The options for the periodic box of solvent are \"box\", \"cube\", and \"oct\" (truncated octahedron). The figure below summarizes the differences:\n",
    "\n",
    "![boxes](boxes.png)\n",
    "\n",
    "\"Box\" adds the least solvent to satisfy the \"buffer\" criterion (white arrows), but if the solute (orange) rotates in the box, it may extend beyond it. \"Cube\" solves this, but means adding more water (so more atoms and a slower simulation). \"Oct\" reduces the number of waters required but still is safe for rotation of the solute.\n",
    "\n",
    "### Running the parameterization\n",
    "\n",
    "With a decision made about this, it's time to run the parameterization process. This may take quite a long time, because part of the process may involve running a Quantum Mechanics (QM) calculation."
   ]
  },
  {
   "cell_type": "code",
   "execution_count": null,
   "id": "66d0a504-42e0-48b1-8cc8-7bb640da8711",
   "metadata": {},
   "outputs": [],
   "source": [
    "param('abl_ligand.pdb', 'abl_ligand.prmtop', 'abl_ligand.inpcrd', \n",
    "      het_names=['UNL'], het_charges=[2],\n",
    "      solvate='oct', buffer=10.0)"
   ]
  },
  {
   "cell_type": "markdown",
   "id": "81cb45b5-05e4-46bd-bc5d-613ccf913ed2",
   "metadata": {},
   "source": [
    "Visualize the result, which is your 'simulation-ready' system:"
   ]
  },
  {
   "cell_type": "code",
   "execution_count": null,
   "id": "a42639af-ef8d-437f-b7d6-db786b44ed42",
   "metadata": {},
   "outputs": [],
   "source": [
    "system = mdt.load('abl_ligand.inpcrd', top='abl_ligand.prmtop')\n",
    "view3 = nv.show_mdtraj(system)\n",
    "view3.add_representation('line', 'HOH')\n",
    "view3"
   ]
  },
  {
   "cell_type": "markdown",
   "id": "bf94b9fa-1133-421c-bda3-ad432957fffe",
   "metadata": {},
   "source": [
    "Your system preparation process is complete!\n",
    "\n",
    "## To recap:\n",
    "\n",
    "1. You built a 3D model for your chosen ligand, starting from a SMILES string.\n",
    "2. You built a 3D model for your protein target - Abl - by remediating a structure obtained from the Protein Data Bank (PDB).\n",
    "3.  You skipped over the part where the protein and ligand are \"docked' together.\n",
    "4.  You combined protein and docked ligand, added water and ions to give a biologically relevant system, and then generated the neccessary structure and parameter files (`abl_ligand.inpcrd` and `abl_ligand.prmtop` ) for the MD simulation program AMBER.\n",
    "\n",
    "\n",
    "You are ready to start running some MD simulations!"
   ]
  },
  {
   "cell_type": "code",
   "execution_count": null,
   "id": "6cc0df7b-169b-49d6-b30e-c095276b4c0a",
   "metadata": {},
   "outputs": [],
   "source": []
  }
 ],
 "metadata": {
  "kernelspec": {
   "display_name": "Python 3 (ipykernel)",
   "language": "python",
   "name": "python3"
  },
  "language_info": {
   "codemirror_mode": {
    "name": "ipython",
    "version": 3
   },
   "file_extension": ".py",
   "mimetype": "text/x-python",
   "name": "python",
   "nbconvert_exporter": "python",
   "pygments_lexer": "ipython3",
   "version": "3.10.17"
  }
 },
 "nbformat": 4,
 "nbformat_minor": 5
}
